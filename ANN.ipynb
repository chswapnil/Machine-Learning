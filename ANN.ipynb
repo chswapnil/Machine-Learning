{
  "nbformat": 4,
  "nbformat_minor": 0,
  "metadata": {
    "colab": {
      "name": "ANN.ipynb",
      "provenance": [],
      "collapsed_sections": [],
      "authorship_tag": "ABX9TyMCRrzw/n4pahQZMGBoOPGB",
      "include_colab_link": true
    },
    "kernelspec": {
      "name": "python3",
      "display_name": "Python 3"
    }
  },
  "cells": [
    {
      "cell_type": "markdown",
      "metadata": {
        "id": "view-in-github",
        "colab_type": "text"
      },
      "source": [
        "<a href=\"https://colab.research.google.com/github/chswapnil/Machine-Learning/blob/main/ANN.ipynb\" target=\"_parent\"><img src=\"https://colab.research.google.com/assets/colab-badge.svg\" alt=\"Open In Colab\"/></a>"
      ]
    },
    {
      "cell_type": "code",
      "metadata": {
        "id": "HtTE5P3GRXZL"
      },
      "source": [
        "import numpy as np\r\n",
        "import pandas as pd\r\n",
        "import tensorflow as tf"
      ],
      "execution_count": 2,
      "outputs": []
    },
    {
      "cell_type": "code",
      "metadata": {
        "id": "2Bv1wvzZRaID",
        "colab": {
          "base_uri": "https://localhost:8080/",
          "height": 35
        },
        "outputId": "54d25856-3d3e-4200-d4f3-5c032eba40e0"
      },
      "source": [
        "tf.__version__"
      ],
      "execution_count": 3,
      "outputs": [
        {
          "output_type": "execute_result",
          "data": {
            "application/vnd.google.colaboratory.intrinsic+json": {
              "type": "string"
            },
            "text/plain": [
              "'2.4.0'"
            ]
          },
          "metadata": {
            "tags": []
          },
          "execution_count": 3
        }
      ]
    },
    {
      "cell_type": "code",
      "metadata": {
        "id": "yz8LVtGKr9_Y"
      },
      "source": [
        "datasheet = pd.read_csv('Churn_Modelling.csv');\r\n",
        "x = datasheet.iloc[:,3:-1].values;\r\n",
        "y = datasheet.iloc[:,-1].values;"
      ],
      "execution_count": 21,
      "outputs": []
    },
    {
      "cell_type": "code",
      "metadata": {
        "id": "y35Ge8_Px7TI"
      },
      "source": [
        "print(x);"
      ],
      "execution_count": null,
      "outputs": []
    },
    {
      "cell_type": "markdown",
      "metadata": {
        "id": "XdG_xQxpApeQ"
      },
      "source": [
        "Label Encoding used for Relational Data"
      ]
    },
    {
      "cell_type": "code",
      "metadata": {
        "id": "uNvuI9ZB5Z0S"
      },
      "source": [
        "from sklearn.preprocessing import LabelEncoder\r\n",
        "le = LabelEncoder();\r\n",
        "x[:,2] = le.fit_transform(x[:,2]);"
      ],
      "execution_count": 24,
      "outputs": []
    },
    {
      "cell_type": "code",
      "metadata": {
        "id": "LalVDpRxAUal"
      },
      "source": [
        "print(x)"
      ],
      "execution_count": null,
      "outputs": []
    },
    {
      "cell_type": "markdown",
      "metadata": {
        "id": "KZpLY8PXAtPc"
      },
      "source": [
        "Hot Encoding of Unrelational Data"
      ]
    },
    {
      "cell_type": "code",
      "metadata": {
        "id": "nnD2GvOgA5gO"
      },
      "source": [
        "from sklearn.compose import ColumnTransformer\r\n",
        "from sklearn.preprocessing import OneHotEncoder\r\n",
        "ct = ColumnTransformer(transformers=[('encoder',OneHotEncoder(),[1])],remainder='passthrough');\r\n",
        "x = np.array(ct.fit_transform(x));"
      ],
      "execution_count": 27,
      "outputs": []
    },
    {
      "cell_type": "code",
      "metadata": {
        "id": "BnR-SbBUGd_w"
      },
      "source": [
        "print(x);"
      ],
      "execution_count": null,
      "outputs": []
    },
    {
      "cell_type": "markdown",
      "metadata": {
        "id": "JhCRVKkgJEXs"
      },
      "source": [
        "Splitting Training set and Test set"
      ]
    },
    {
      "cell_type": "code",
      "metadata": {
        "id": "Amlazu4gJJqe"
      },
      "source": [
        "from sklearn.model_selection import train_test_split\r\n",
        "x_train, x_test, y_test, y_train = train_test_split(x, y, test_size=0.2,random_state=0);"
      ],
      "execution_count": 33,
      "outputs": []
    },
    {
      "cell_type": "markdown",
      "metadata": {
        "id": "-axJg3m8Lv5e"
      },
      "source": [
        "Feature Scaling"
      ]
    },
    {
      "cell_type": "code",
      "metadata": {
        "id": "tD_tNGBXLyPL"
      },
      "source": [
        "from sklearn.preprocessing import StandardScaler\r\n",
        "sc = StandardScaler();\r\n",
        "x_train = sc.fit_transform(x_train);\r\n",
        "x_test = sc.transform(x_test);"
      ],
      "execution_count": null,
      "outputs": []
    }
  ]
}